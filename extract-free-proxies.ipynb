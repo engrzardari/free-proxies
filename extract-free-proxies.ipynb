{
 "cells": [
  {
   "cell_type": "code",
   "execution_count": null,
   "metadata": {},
   "outputs": [],
   "source": [
    "import requests\n",
    "import requests_cache\n",
    "from bs4 import BeautifulSoup\n",
    "\n",
    "##################################### URL #########################\n",
    "url =\"https://free-proxy-list.net/\" \n",
    "###################################################################\n",
    "#print(url)\n",
    "#exit\n",
    "r = requests.get(url)\n",
    "htmlcontent = r.content\n",
    "# #print(htmlcontent)\n",
    "soup = BeautifulSoup(htmlcontent,'html.parser')\n",
    "#print(soup)\n",
    "#************************************************************************\n",
    "proxy_ips = soup.select(\"#proxylisttable >tbody >tr>td:nth-of-type(1)\")\n",
    "ip_ports = soup.select(\"#proxylisttable >tbody >tr>td:nth-of-type(2)\")\n",
    "#print(proxy_ips)\n",
    "#print(ip_ports)\n",
    "#exit\n",
    "#************************************************************************\n",
    "\n",
    "all_proxy_ips=list()\n",
    "i=0\n",
    "for ips in proxy_ips:\n",
    "    #print(i)\n",
    "    #print(ips)\n",
    "    if i < len(ip_ports):\n",
    "        port_for_ip = ip_ports[i].text.strip()\n",
    "        #print(port_for_ip)\n",
    "    else:\n",
    "        port_for_ip=0\n",
    "        all_proxy_ips.append(ips.text.strip()+':'+port_for_ip)\n",
    "        \n",
    "############################# print all free proxies list #####################################        \n",
    "print(all_proxy_ips)"
   ]
  }
 ],
 "metadata": {
  "kernelspec": {
   "display_name": "Python 3",
   "language": "python",
   "name": "python3"
  },
  "language_info": {
   "codemirror_mode": {
    "name": "ipython",
    "version": 3
   },
   "file_extension": ".py",
   "mimetype": "text/x-python",
   "name": "python",
   "nbconvert_exporter": "python",
   "pygments_lexer": "ipython3",
   "version": "3.8.6"
  }
 },
 "nbformat": 4,
 "nbformat_minor": 4
}
